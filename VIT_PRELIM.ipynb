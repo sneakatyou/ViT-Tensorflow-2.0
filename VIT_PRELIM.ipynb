{
  "nbformat": 4,
  "nbformat_minor": 0,
  "metadata": {
    "colab": {
      "name": "VIT PRELIM",
      "provenance": [],
      "collapsed_sections": [],
      "authorship_tag": "ABX9TyNp2UaVaaMAwKQ5iCcmNidN",
      "include_colab_link": true
    },
    "kernelspec": {
      "name": "python3",
      "display_name": "Python 3"
    },
    "language_info": {
      "name": "python"
    },
    "accelerator": "GPU"
  },
  "cells": [
    {
      "cell_type": "markdown",
      "metadata": {
        "id": "view-in-github",
        "colab_type": "text"
      },
      "source": [
        "<a href=\"https://colab.research.google.com/github/sneakatyou/ViT-Tensorflow-2.0/blob/main/VIT_PRELIM.ipynb\" target=\"_parent\"><img src=\"https://colab.research.google.com/assets/colab-badge.svg\" alt=\"Open In Colab\"/></a>"
      ]
    },
    {
      "cell_type": "code",
      "metadata": {
        "id": "yvkgMAWC5HHE"
      },
      "source": [
        "!nvidia-smi"
      ],
      "execution_count": null,
      "outputs": []
    },
    {
      "cell_type": "code",
      "metadata": {
        "id": "dQWqc9eHtFEK"
      },
      "source": [
        "from google.colab import drive\n",
        "drive.mount('/content/drive')"
      ],
      "execution_count": null,
      "outputs": []
    },
    {
      "cell_type": "code",
      "metadata": {
        "id": "x-6KxzDhgbi7"
      },
      "source": [
        "import math\n",
        "\n",
        "import six\n",
        "import tensorflow as tf\n",
        "from tensorflow.keras.callbacks import TensorBoard\n",
        "\n",
        "from tensorflow.keras import datasets\n",
        "from datetime import datetime\n",
        "import logging\n",
        "import numpy as np\n",
        "from fastprogress import master_bar, progress_bar\n",
        "import matplotlib.pyplot as plt\n",
        "import os\n",
        "from sklearn.model_selection import StratifiedKFold\n",
        "import matplotlib.pyplot as plt\n",
        "import os\n",
        "import cv2\n",
        "from sklearn.model_selection import StratifiedKFold\n",
        "from sklearn.metrics import confusion_matrix\n",
        "import pandas as pd\n",
        "import numpy as np\n",
        "from google.colab.patches import cv2_imshow\n",
        "os.environ['TF_CPP_MIN_LOG_LEVEL'] = '3'\n",
        "tf.get_logger().setLevel('INFO')\n",
        "from PIL import Image\n",
        "import tensorflow.keras.backend as K\n",
        "from tensorflow.keras.callbacks import Callback\n",
        "from tensorflow.keras.callbacks import CSVLogger"
      ],
      "execution_count": null,
      "outputs": []
    },
    {
      "cell_type": "code",
      "metadata": {
        "id": "Y9KFdDVu-VZb"
      },
      "source": [
        "%load_ext tensorboard\n",
        "!rm -rf ./logs/\n",
        "log_dir = \"logs/fit/\" + datetime.now().strftime(\"%Y%m%d-%H%M%S\")\n",
        "tensorboard_callback = tf.keras.callbacks.TensorBoard(log_dir=log_dir, histogram_freq=1)"
      ],
      "execution_count": null,
      "outputs": []
    },
    {
      "cell_type": "markdown",
      "metadata": {
        "id": "9TUbHwoKt3FC"
      },
      "source": [
        "#Data Loading"
      ]
    },
    {
      "cell_type": "code",
      "metadata": {
        "id": "3ldHGaQpssVI"
      },
      "source": [
        "!scp \"/content/drive/My Drive/INS/malimg_dataset_1.zip\" ./\n",
        "!unzip -qq malimg_dataset_1.zip"
      ],
      "execution_count": null,
      "outputs": []
    },
    {
      "cell_type": "code",
      "metadata": {
        "id": "7cK4QxNxsvBD"
      },
      "source": [
        "%load_ext tensorboard\n",
        "import tensorboard\n",
        "!rm -rf ./logs/\n",
        "from datetime import datetime\n",
        "import tensorflow as tf\n",
        "import os\n",
        "import dlib\n",
        "import cv2\n",
        "import numpy as np\n",
        "import random\n",
        "\n",
        "WORKERS = tf.data.experimental.AUTOTUNE\n",
        "VAL_SPLIT = 0.2\n",
        "IMAGE_SIZE = (224, 224, 3)\n",
        "OCCLUSION_SIZE = (110, 110)\n",
        "BATCH_SIZE = 32\n",
        "POOL_SIZE = 6\n",
        "PATCH_SIZE = 24\n",
        "BUFFER_SIZE = 10000\n",
        "\n",
        "base_dir = \"datasets\"\n",
        "RAF_DB = os.path.join(base_dir, 'RAF-DB/Images')\n",
        "AFFECT_PATH_train = os.path.join(base_dir, 'affect_net_data')\n",
        "AFFECT_PATH_val = os.path.join(base_dir, 'affect_net_validation')\n",
        "OCCLUSION_PATH = os.path.join(base_dir, 'occlusion')\n",
        "FEDRO_PATH = os.path.join(base_dir, 'FED-RO/FED-RO_crop')\n",
        "LANDMARK_PREDICTOR_PATH = 'util_files/shape_predictor_68_face_landmarks.dat'\n",
        "\n",
        "class Dataset():\n",
        "  def __init__(self,X_train,X_test,Y_train,Y_test,new_virus = False, rafdb = RAF_DB, affectnet = AFFECT_PATH_train, affectnetval = AFFECT_PATH_val, fedro=FEDRO_PATH,\n",
        "  batch_size = BATCH_SIZE, image_shape = IMAGE_SIZE, patch_size = PATCH_SIZE, \n",
        "  occlusion_size = OCCLUSION_SIZE, create_occlusion = False,flag_for_fedro=False,flag_for_rafdb=False,flag_for_affectnet=False):\n",
        "    self.path1 = \"/content/malimg_dataset\"\n",
        "    self.path2 = affectnet\n",
        "    self.path3 = affectnetval\n",
        "    self.path4 = fedro\n",
        "    self.val = False\n",
        "    self.new_virus = new_virus\n",
        "    self.batch_size = batch_size\n",
        "    self.image_height = image_shape[0]\n",
        "    self.image_width = image_shape[1]\n",
        "    self.label_dict = {'adialer.c': 0, 'agent.fyi': 1, 'allaple.l': 2, 'alueron.gen!j': 3, 'autorun.k': 4, 'c2lop.p': 5, 'dialplatform.b': 6,'dontovo.a':7,'fakerean':8,'instantaccess':9,'lolyda.aa1':10,'lolyda.aa2':11,'lolyda.aa3':12, 'lolyda.at':13,'malex.gen!j':14,'obfuscator.ad':15,'rbot!gen':16,'skintrim.n':17,'swizzor.gen!e':18,'swizzor.gen!i':19,'vb.at':20,'wintrim.bx':21,'yuner.a':22,'allaple.a':23,'c2lop.gen!g': 24}\n",
        "    #self.label_dict = {'Lolyda.BF': 0,\"PWSWin32VB\": 1,'SoftwareBundlerWin32Prepscram':2,'TrojanWin32Eksor.A':3,'Wintrim.BF':4}\n",
        "    self.num_classes = len(list(self.label_dict))\n",
        "    self.create_occlusion = create_occlusion\n",
        "    self.X_train, self.X_test, self.Y_train, self.Y_test = X_train,X_test,Y_train,Y_test\n",
        "    self.RandomFlip = tf.keras.layers.experimental.preprocessing.RandomFlip(\"horizontal_and_vertical\")\n",
        "    self.RandomRotation = tf.keras.layers.experimental.preprocessing.RandomRotation(0.2)\n",
        "    #self.RandomCrop = tf.keras.layers.experimental.preprocessing.RandomCrop(160,160,seed = 777)\n",
        "    #self.RandomZoom = tf.keras.layers.experimental.preprocessing.RandomZoom(0.2)\n",
        "    self.Resize =  tf.keras.layers.experimental.preprocessing.Resizing(224,224)\n",
        "\n",
        "  \n",
        "  def aug(self,image,label):\n",
        "      \n",
        "    image = self.RandomFlip(image)\n",
        "    image = self.RandomRotation(image)\n",
        "    #image = self.RandomCrop(image)\n",
        "    #image = self.RandomZoom(image)\n",
        "    image = self.Resize(image)\n",
        "    return image,label\n",
        "  \n",
        "  \n",
        "  def parse_function(self, image, label):\n",
        "    #image = tf.io.read_file(image_path)\n",
        "    #image = tf.image.decode_jpeg(image, channels = 3)\n",
        "    # image = tf.image.resize_with_crop_or_pad(image, self.image_height + 10, self.image_width + 10)\n",
        "    # image = tf.image.random_crop(image, size = [self.image_height, self.image_width, 3])\n",
        "    # image = tf.image.random_brightness(image, max_delta = 0.5)\n",
        "    if self.new_virus:\n",
        "        image = image[:,:,0:3]\n",
        "\n",
        "    else:\n",
        "        if not self.val:\n",
        "            image = tf.expand_dims(image,axis = 2)\n",
        "            image = tf.concat([image,image,image],axis = 2)\n",
        "        \n",
        "        else:\n",
        "            image = image[:,:,0:3]\n",
        "    image = tf.image.resize(image, [self.image_width, self.image_height])\n",
        "\n",
        "    #label = tf.one_hot(label, self.num_classes)\n",
        "    return image,label\n",
        "  \n",
        "  def get_train_ds(self):\n",
        "    BUFFER_SIZE = len(self.X_train)\n",
        "    ds = tf.data.Dataset.from_tensor_slices((self.X_train , self.Y_train))\n",
        "    ds = ds.shuffle(BUFFER_SIZE)\n",
        "    ds = ds.repeat()\n",
        "    ds = ds.map(self.parse_function, num_parallel_calls = WORKERS)\n",
        "    ds = ds.batch(self.batch_size, drop_remainder = True) \n",
        "    #ds = ds.map(self.aug,num_parallel_calls = WORKERS)\n",
        "    ds = ds.prefetch(buffer_size=WORKERS)\n",
        "    return ds\n",
        "  \n",
        "  def get_test_ds(self):\n",
        "    BUFFER_SIZE = len(self.X_test)\n",
        "    self.val = False\n",
        "    ds = tf.data.Dataset.from_tensor_slices((self.X_test , self.Y_test))\n",
        "    ds = ds.shuffle(BUFFER_SIZE)\n",
        "    ds = ds.repeat(count=1)\n",
        "    ds = ds.map(self.parse_function, num_parallel_calls = WORKERS)\n",
        "    ds = ds.batch( self.batch_size, drop_remainder = True )\n",
        "    ds = ds.prefetch(buffer_size=WORKERS)\n",
        "    return ds"
      ],
      "execution_count": null,
      "outputs": []
    },
    {
      "cell_type": "code",
      "metadata": {
        "id": "CBXiMmtAt75q"
      },
      "source": [
        "from sklearn.model_selection import train_test_split\n",
        "def get_ds():\n",
        "    bs = configs.batch_size\n",
        "    #X_list and Y_list are lists containing images ans labels respectively\n",
        "    X_train,X_test,Y_train,Y_test = train_test_split(X_list,Y_list,train_size = 0.7) \n",
        "    dataset = Dataset(X_train,X_test,Y_train,Y_test,batch_size=bs,new_virus=False)\n",
        "    train_ds = dataset.get_train_ds()\n",
        "    test_ds = dataset.get_test_ds()\n",
        "    return train_ds,test_ds"
      ],
      "execution_count": null,
      "outputs": []
    },
    {
      "cell_type": "markdown",
      "metadata": {
        "id": "hskNvm8gt8WL"
      },
      "source": [
        "#TPU Initialization"
      ]
    },
    {
      "cell_type": "code",
      "metadata": {
        "id": "xb7sXIJHFHcx"
      },
      "source": [
        "tf.keras.backend.clear_session()\n",
        "\n",
        "resolver = tf.distribute.cluster_resolver.TPUClusterResolver(tpu='grpc://' + os.environ['COLAB_TPU_ADDR'])\n",
        "tf.config.experimental_connect_to_cluster(resolver)\n",
        "# This is the TPU initialization code that has to be at the beginning.\n",
        "tf.tpu.experimental.initialize_tpu_system(resolver)\n",
        "print(\"All devices: \", tf.config.list_logical_devices('TPU'))\n",
        "\n",
        "strategy = tf.distribute.experimental.TPUStrategy(resolver)"
      ],
      "execution_count": null,
      "outputs": []
    },
    {
      "cell_type": "markdown",
      "metadata": {
        "id": "wN7H07Tt6ivO"
      },
      "source": [
        "#Positional encoding"
      ]
    },
    {
      "cell_type": "code",
      "metadata": {
        "id": "j_eZAJcbz7E6"
      },
      "source": [
        "def get_angles(pos, i, d_model):\n",
        "  angle_rates = 1 / np.power(10000, (2 * (i//2)) / np.float32(d_model))\n",
        "  return pos * angle_rates\n",
        "  \n",
        "def positional_encoding(position, d_model):\n",
        "  angle_rads = get_angles(np.arange(position)[:, np.newaxis],\n",
        "                          np.arange(d_model)[np.newaxis, :],\n",
        "                          d_model)\n",
        "  angle_rads[:, 0::2] = np.sin(angle_rads[:, 0::2])\n",
        "  angle_rads[:, 1::2] = np.cos(angle_rads[:, 1::2])\n",
        "  pos_encoding = angle_rads[np.newaxis, ...]\n",
        "  return tf.cast(pos_encoding, dtype=tf.float32)\n"
      ],
      "execution_count": null,
      "outputs": []
    },
    {
      "cell_type": "code",
      "metadata": {
        "id": "8FvCbsp60J_-"
      },
      "source": [
        "n, d = 2048, 512\n",
        "pos_encoding = positional_encoding(n, d)\n",
        "print(pos_encoding.shape)\n",
        "pos_encoding = pos_encoding[0]\n",
        "pos_encoding = tf.reshape(pos_encoding, (n, d//2, 2))\n",
        "pos_encoding = tf.transpose(pos_encoding, (2,1,0))\n",
        "pos_encoding = tf.reshape(pos_encoding, (d, n))\n",
        "plt.pcolormesh(pos_encoding, cmap='RdBu')\n",
        "plt.ylabel('Depth')\n",
        "plt.xlabel('Position')\n",
        "plt.colorbar()\n",
        "plt.show()\n"
      ],
      "execution_count": null,
      "outputs": []
    },
    {
      "cell_type": "markdown",
      "metadata": {
        "id": "tfI3HMssI4xH"
      },
      "source": [
        "#MHA"
      ]
    },
    {
      "cell_type": "code",
      "metadata": {
        "id": "KAYdeNGhhDaM"
      },
      "source": [
        "class MultiHeadAttention(tf.keras.layers.Layer):\n",
        "    def __init__(self,num_heads,d_model):\n",
        "        super(MultiHeadAttention,self).__init__()\n",
        "        self.num_heads = num_heads\n",
        "        self.d_model = d_model\n",
        "        assert d_model%num_heads==0 \n",
        "        self.multihead_d_model = tf.cast(d_model/num_heads,tf.int32)\n",
        "        self.dense1 = tf.keras.layers.Dense(d_model)\n",
        "        self.dense2 = tf.keras.layers.Dense(d_model)\n",
        "        self.dense3 = tf.keras.layers.Dense(d_model)\n",
        "        self.dense4 = tf.keras.layers.Dense(d_model)\n",
        "    \n",
        "    def SelfAttention(self,q,k,v,d_model):\n",
        "        x = tf.matmul(q,k,transpose_b = True)\n",
        "        x = tf.divide(x,tf.math.sqrt(tf.cast(d_model,tf.float32))) #scale q*k(T)\n",
        "        attention_weights = tf.keras.activations.softmax(x,axis = -1) #calculating attention weights\n",
        "\n",
        "        x = tf.matmul(attention_weights,v)\n",
        "        return x,attention_weights\n",
        "    \n",
        "    def create_multi_heads(self,x,batch_size):\n",
        "        x = tf.reshape(x,(batch_size,-1,self.num_heads,self.multihead_d_model))\n",
        "        x = tf.transpose(x,perm = [0,2,1,3])\n",
        "        return x\n",
        "    \n",
        "    def call(self,x):\n",
        "        batch_size = x.get_shape()[0]\n",
        "        q = self.dense1(x)\n",
        "        k = self.dense2(x)\n",
        "        v = self.dense3(x)\n",
        "\n",
        "        q = self.create_multi_heads(q,batch_size)\n",
        "        k = self.create_multi_heads(k,batch_size)\n",
        "        v = self.create_multi_heads(v,batch_size)\n",
        "\n",
        "\n",
        "        x,attention_weights = self.SelfAttention(q,k,v,self.d_model)\n",
        "        x = tf.transpose(x, perm = [0,2,1,3])\n",
        "        x = tf.reshape(x,(batch_size,-1,self.d_model))\n",
        "        x = self.dense4(x)\n",
        "        return x,attention_weights\n"
      ],
      "execution_count": null,
      "outputs": []
    },
    {
      "cell_type": "code",
      "metadata": {
        "id": "BEKWntBPtugE"
      },
      "source": [
        "temp_mha = MultiHeadAttention(d_model=512, num_heads=8)\n",
        "y = tf.random.uniform((1, 60, 512))  # (batch_size, encoder_sequence, d_model)\n",
        "out, attn = temp_mha(y)\n",
        "out.shape, attn.shape"
      ],
      "execution_count": null,
      "outputs": []
    },
    {
      "cell_type": "markdown",
      "metadata": {
        "id": "2LjMBjELEFNo"
      },
      "source": [
        "#OTHERS"
      ]
    },
    {
      "cell_type": "code",
      "metadata": {
        "id": "9XXCQ6IjEEC3"
      },
      "source": [
        "class Add(tf.keras.layers.Layer):\n",
        "    def __init__(self):\n",
        "        super(Add,self).__init__()\n",
        "\n",
        "    def call(self,x,x1):\n",
        "        return tf.add(x,x1)\n"
      ],
      "execution_count": null,
      "outputs": []
    },
    {
      "cell_type": "code",
      "metadata": {
        "id": "PtSnQmB_FyNg"
      },
      "source": [
        "class MLP(tf.keras.layers.Layer):\n",
        "    def __init__(self,hidden_shape1,hidden_shape2,dropout_rate = 0.1):\n",
        "        super(MLP,self).__init__()\n",
        "        self.dense1 = tf.keras.layers.Dense(hidden_shape1,bias_initializer=tf.keras.initializers.RandomNormal(stddev=1e-6))\n",
        "        self.dense2 = tf.keras.layers.Dense(hidden_shape2,bias_initializer=tf.keras.initializers.RandomNormal(stddev=1e-6))\n",
        "        self.dropout1 = tf.keras.layers.Dropout(dropout_rate)\n",
        "        self.dropout2 = tf.keras.layers.Dropout(dropout_rate)\n",
        "\n",
        "    def call(self,x,training =True):\n",
        "        x = self.dense1(x)\n",
        "        x = tf.keras.activations.gelu(x)\n",
        "        x = self.dropout1(x,training = training)\n",
        "        x = self.dense2(x)\n",
        "        x = self.dropout2(x,training = training)\n",
        "        return x\n",
        "\n"
      ],
      "execution_count": null,
      "outputs": []
    },
    {
      "cell_type": "code",
      "metadata": {
        "id": "Lyk6oKuyRH1w"
      },
      "source": [
        "class ImgPatches(tf.keras.layers.Layer):\n",
        "    def __init__(self,d_model,patch_size,):\n",
        "        super(ImgPatches,self).__init__()\n",
        "        self.conv1 = tf.keras.layers.Conv2D(d_model,patch_size,patch_size,padding = 'valid')\n",
        "        self.patch_size = patch_size\n",
        "        self.d_model = d_model\n",
        "    def call(self,x):\n",
        "        batch_size = x.get_shape()[0]\n",
        "        print(batch_size)\n",
        "        x = self.conv1(x)\n",
        "        print(x.get_shape()[0],x.get_shape()[1],x.get_shape()[2],x.get_shape()[3])\n",
        "        x = tf.reshape(x,(x.get_shape()[0],tf.multiply(x.get_shape()[1],x.get_shape()[2]),x.get_shape()[3]))\n",
        "        return x"
      ],
      "execution_count": null,
      "outputs": []
    },
    {
      "cell_type": "code",
      "metadata": {
        "id": "mf1SrpXXZWvF"
      },
      "source": [
        "x = tf.random.uniform((1,224,224,3))\n",
        "img = ImgPatches(d_model = 5,patch_size=32)\n",
        "y = img(x)\n",
        "y"
      ],
      "execution_count": null,
      "outputs": []
    },
    {
      "cell_type": "code",
      "metadata": {
        "id": "A9mPOBX6bqCe"
      },
      "source": [
        "class AddCls(tf.keras.layers.Layer):\n",
        "    def __init__(self,d_model):\n",
        "        super(AddCls,self).__init__()\n",
        "        self.d_model = d_model\n",
        "        self.cls = tf.Variable(tf.zeros((1,1,d_model),dtype=tf.float32),trainable=True)\n",
        "    def build(self,input_shape):\n",
        "        batch_size = input_shape[0]\n",
        "        self.cls = tf.Variable(tf.zeros((1,1,self.d_model),dtype=tf.float32),trainable=True)\n",
        "        self.cls  = tf.tile(self.cls,[batch_size,1,1])\n",
        "    def call(self,x):\n",
        "        batch_size = x.get_shape()[0]\n",
        "        print(self.cls.shape)\n",
        "        #self.cls  = tf.tile(self.cls,[batch_size,1,1])\n",
        "        print(self.cls.shape,x.shape)\n",
        "        x = tf.concat([x,self.cls],axis=1)\n",
        "        return x"
      ],
      "execution_count": null,
      "outputs": []
    },
    {
      "cell_type": "code",
      "metadata": {
        "id": "xDdamQsmgG-h"
      },
      "source": [
        "x = tf.random.uniform((32,49,512))\n",
        "img = AddCls(512)\n",
        "y = img(x)\n",
        "y.shape"
      ],
      "execution_count": null,
      "outputs": []
    },
    {
      "cell_type": "markdown",
      "metadata": {
        "id": "p_lRGCeuI7tM"
      },
      "source": [
        "#ENCODER"
      ]
    },
    {
      "cell_type": "code",
      "metadata": {
        "id": "wfo-LszuI-HJ"
      },
      "source": [
        "class EncoderBlock(tf.keras.layers.Layer):\n",
        "    def __init__(self,num_heads,d_model,hidden_layer_shape,dropout_rate = 0.1):\n",
        "        super(EncoderBlock,self).__init__()\n",
        "        self.norm1 = tf.keras.layers.LayerNormalization(epsilon=1e-6)\n",
        "        self.norm2 = tf.keras.layers.LayerNormalization(epsilon=1e-6)\n",
        "        self.mlp = MLP(hidden_shape1=hidden_layer_shape,hidden_shape2=d_model,dropout_rate=dropout_rate)\n",
        "        #self.Add = Add()\n",
        "        self.mha = MultiHeadAttention(num_heads=num_heads,d_model = d_model)\n",
        "        self.dropout1 = tf.keras.layers.Dropout(dropout_rate)\n",
        "    \n",
        "    def call(self,inp,training = True):\n",
        "        x = self.norm1(inp)\n",
        "        x,_ = self.mha(x,training=training)\n",
        "        x = self.dropout1(x,training = training)\n",
        "        x = x + inp\n",
        "\n",
        "        y = self.norm2(x)\n",
        "        y = self.mlp(y)\n",
        "        y = x+y\n",
        "\n",
        "        return y"
      ],
      "execution_count": null,
      "outputs": []
    },
    {
      "cell_type": "code",
      "metadata": {
        "id": "1YDg_ueKWhSv"
      },
      "source": [
        "temp_mha = EncoderBlock(d_model=512, num_heads=8,hidden_layer_shape=2048)\n",
        "y = tf.random.uniform((1, 60, 512))  # (batch_size, encoder_sequence, d_model)\n",
        "out = temp_mha(y,training=True)\n",
        "out.shape"
      ],
      "execution_count": null,
      "outputs": []
    },
    {
      "cell_type": "code",
      "metadata": {
        "id": "8L4oo60pIX-V"
      },
      "source": [
        "class Encoder(tf.keras.layers.Layer):\n",
        "    def __init__(self,num_heads,d_model,hidden_layer_shape,num_layers,dropout_rate = 0.1):\n",
        "        super(Encoder,self).__init__()\n",
        "        self.encoder_layers = [EncoderBlock(num_heads=num_heads,d_model = d_model,hidden_layer_shape=hidden_layer_shape,dropout_rate=dropout_rate) for _ in range(num_layers)]\n",
        "        self.num_layers = num_layers\n",
        "        self.norm1 = tf.keras.layers.LayerNormalization(epsilon=1e-6)\n",
        "    def call(self,x,training = True):\n",
        "        for layer in range(self.num_layers):\n",
        "            x = self.encoder_layers[layer](x,training=training)\n",
        "        x = self.norm1(x)\n",
        "        return x"
      ],
      "execution_count": null,
      "outputs": []
    },
    {
      "cell_type": "code",
      "metadata": {
        "id": "ilAEkhLiPQ8e"
      },
      "source": [
        "temp_mha = Encoder(d_model=512, num_heads=8,hidden_layer_shape=2048,num_layers = 8)\n",
        "y = tf.random.uniform((1, 60, 512))  # (batch_size, encoder_sequence, d_model)\n",
        "out = temp_mha(y,training=True)\n",
        "out.shape"
      ],
      "execution_count": null,
      "outputs": []
    },
    {
      "cell_type": "markdown",
      "metadata": {
        "id": "n3pui38cZPYD"
      },
      "source": [
        "#VIT Model"
      ]
    },
    {
      "cell_type": "code",
      "metadata": {
        "id": "6joxk9lrZPHn"
      },
      "source": [
        "class ViT(tf.keras.Model):\n",
        "    def __init__(self,num_heads,d_model,hidden_layer_shape,num_layers,patch_size,num_classes,dropout_rate = 0.1,training = True):\n",
        "        super(ViT,self).__init__()\n",
        "        self.encoder = Encoder(num_heads=num_heads,d_model=d_model,hidden_layer_shape=hidden_layer_shape,num_layers=num_layers,dropout_rate=dropout_rate)\n",
        "        self.img_patches = ImgPatches(d_model=d_model,patch_size=patch_size)\n",
        "        self.addcls = AddCls(d_model=d_model)\n",
        "        self.dropout1 = tf.keras.layers.Dropout(dropout_rate)\n",
        "        self.dense1 = tf.keras.layers.Dense(units = num_classes,kernel_initializer = tf.keras.initializers.zeros)\n",
        "    \n",
        "    def call(self,input,training = True):\n",
        "        x = self.img_patches(input)\n",
        "        x = self.addcls(x)\n",
        "        emb = positional_encoding(x.get_shape()[1],x.get_shape()[2])\n",
        "        x = tf.add(x,emb)\n",
        "        x = self.dropout1(x,training = training)\n",
        "        x = self.encoder(x,training = training)\n",
        "        print(x.shape)\n",
        "        x = x[:,0]\n",
        "        x = self.dense1(x)\n",
        "        return x\n"
      ],
      "execution_count": null,
      "outputs": []
    },
    {
      "cell_type": "code",
      "metadata": {
        "id": "pqbSIfue0PNv"
      },
      "source": [
        "temp_mha = ViT(num_heads = 8,d_model = 512,hidden_layer_shape = 2048,num_layers = 12,patch_size = 32,num_classes = 10,dropout_rate = 0.1,training = True)\n",
        "y = tf.random.uniform((32, 224,224, 3))  # (batch_size, encoder_sequence, d_model)\n",
        "out = temp_mha(y,training=True)\n",
        "out.shape"
      ],
      "execution_count": null,
      "outputs": []
    },
    {
      "cell_type": "code",
      "metadata": {
        "id": "U4Q6WyiA8_ml"
      },
      "source": [
        "temp_mha = ViT(num_heads = 8,d_model = 512,hidden_layer_shape = 2048,num_layers = 12,patch_size = 32,num_classes = 10,dropout_rate = 0.1,training = True)\n",
        "temp_mha.build((32,224,224,3))"
      ],
      "execution_count": null,
      "outputs": []
    },
    {
      "cell_type": "markdown",
      "metadata": {
        "id": "ihZagFH5xMDe"
      },
      "source": [
        "#Config"
      ]
    },
    {
      "cell_type": "code",
      "metadata": {
        "id": "pXwy8DHkxUQ9"
      },
      "source": [
        "class Configs():\n",
        "    def __init__(self,num_classes, num_heads,num_layers,d_model,hidden_layer_shape1,hidden_layer_shape2,dropout_rate,training,batch_size,patch_size,learning_rate):\n",
        "        self.num_classes = num_classes\n",
        "        self.num_heads = num_heads\n",
        "        self.num_layers = num_layers\n",
        "        self.d_model = d_model\n",
        "        self.hidden_layer_shape1 = hidden_layer_shape1\n",
        "        self.hidden_layer_shape2 = hidden_layer_shape2\n",
        "        self.dropout_rate = dropout_rate\n",
        "        self.training = training\n",
        "        self.batch_size = batch_size\n",
        "        self.patch_size = patch_size\n",
        "        self.learning_rate = learning_rate"
      ],
      "execution_count": null,
      "outputs": []
    },
    {
      "cell_type": "code",
      "metadata": {
        "id": "0atFFWA2yuQH"
      },
      "source": [
        "configs = Configs(num_classes = 25, \n",
        "                  num_heads = 12,\n",
        "                  num_layers = 12,\n",
        "                  d_model = 768,\n",
        "                  hidden_layer_shape1 = 3072,\n",
        "                  hidden_layer_shape2 = 1024,\n",
        "                  dropout_rate = 0.1,\n",
        "                  training = True,\n",
        "                  batch_size = 32,\n",
        "                  patch_size = 16,\n",
        "                  learning_rate = 0.001)"
      ],
      "execution_count": null,
      "outputs": []
    },
    {
      "cell_type": "markdown",
      "metadata": {
        "id": "X1bu5IeG8l-H"
      },
      "source": [
        "#Training"
      ]
    },
    {
      "cell_type": "code",
      "metadata": {
        "id": "KteOC7f2QdQK"
      },
      "source": [
        "class CustomSchedule(tf.keras.optimizers.schedules.LearningRateSchedule):\n",
        "  def __init__(self, d_model, warmup_steps=4000):\n",
        "    super(CustomSchedule, self).__init__()\n",
        "\n",
        "    self.d_model = d_model\n",
        "    self.d_model = tf.cast(self.d_model, tf.float32)\n",
        "\n",
        "    self.warmup_steps = warmup_steps\n",
        "\n",
        "  def __call__(self, step):\n",
        "    arg1 = tf.math.rsqrt(step)\n",
        "    arg2 = step * (self.warmup_steps ** -1.5)\n",
        "\n",
        "    return tf.math.rsqrt(self.d_model) * tf.math.minimum(arg1, arg2)\n"
      ],
      "execution_count": null,
      "outputs": []
    },
    {
      "cell_type": "markdown",
      "metadata": {
        "id": "125T4DzGComq"
      },
      "source": [
        "TPU Training"
      ]
    },
    {
      "cell_type": "code",
      "metadata": {
        "id": "wnocakn0DJ0J"
      },
      "source": [
        "with strategy.scope():\n",
        "    model = ViT(num_heads = configs.num_heads,\n",
        "                d_model = configs.d_model ,\n",
        "                hidden_layer_shape = configs.hidden_layer_shape1,\n",
        "                num_layers = configs.num_layers,\n",
        "                patch_size = configs.patch_size,\n",
        "                num_classes = configs.num_classes,\n",
        "                dropout_rate = configs.dropout_rate,\n",
        "                training = configs.training)\n",
        "    model.compile(loss = tf.keras.losses.SparseCategoricalCrossentropy(from_logits=True),\n",
        "                  optimizer = tf.keras.optimizers.Adam(learning_rate=configs.learning_rate),\n",
        "                  metrics = [\"accuracy\"])\n",
        "    model.build((64,224,224,3))"
      ],
      "execution_count": null,
      "outputs": []
    },
    {
      "cell_type": "code",
      "metadata": {
        "id": "fRPGiKcCEvMo"
      },
      "source": [
        "model.fit(train_ds,epochs = 100,steps_per_epoch=100,validation_data = test_ds)"
      ],
      "execution_count": null,
      "outputs": []
    },
    {
      "cell_type": "markdown",
      "metadata": {
        "id": "TGAtayieBuMo"
      },
      "source": [
        "GPU TRAINING"
      ]
    },
    {
      "cell_type": "code",
      "metadata": {
        "id": "EjF2pvbMSu3i"
      },
      "source": [
        "train_ds,test_ds = get_ds()"
      ],
      "execution_count": null,
      "outputs": []
    },
    {
      "cell_type": "code",
      "metadata": {
        "id": "d3-fDt6ITSOc"
      },
      "source": [
        "!rm -r \"/content/logs\""
      ],
      "execution_count": null,
      "outputs": []
    },
    {
      "cell_type": "code",
      "metadata": {
        "id": "QchplFOXGfat"
      },
      "source": [
        "tf.keras.backend.clear_session()\n",
        "model = ViT(num_heads = configs.num_heads,\n",
        "                d_model = configs.d_model ,\n",
        "                hidden_layer_shape = configs.hidden_layer_shape1,\n",
        "                num_layers = configs.num_layers,\n",
        "                patch_size = configs.patch_size,\n",
        "                num_classes = configs.num_classes,\n",
        "                dropout_rate = configs.dropout_rate,\n",
        "                training = configs.training)\n",
        "lr_scheduler = tf.keras.callbacks.LearningRateScheduler(lambda epoch: configs.learning_rate*tf.math.exp(-0.01*epoch))\n",
        "lr_onPlateu = tf.keras.callbacks.ReduceLROnPlateau(patience=4)\n",
        "model.compile(loss = tf.keras.losses.SparseCategoricalCrossentropy(from_logits=True),\n",
        "                  optimizer = tf.keras.optimizers.Adam(learning_rate=configs.learning_rate),\n",
        "                  metrics = [\"accuracy\"])\n",
        "model.fit(train_ds,epochs = 500,steps_per_epoch=100,validation_data = test_ds,callbacks = [tensorboard_callback,lr_scheduler,lr_onPlateu],verbose = 1)"
      ],
      "execution_count": null,
      "outputs": []
    },
    {
      "cell_type": "code",
      "metadata": {
        "id": "2Srg3-2z6g4z"
      },
      "source": [
        "%tensorboard --logdir /content/logs"
      ],
      "execution_count": null,
      "outputs": []
    }
  ]
}