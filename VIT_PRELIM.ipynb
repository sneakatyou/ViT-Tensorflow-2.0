{
  "nbformat": 4,
  "nbformat_minor": 0,
  "metadata": {
    "colab": {
      "name": "VIT PRELIM",
      "provenance": [],
      "authorship_tag": "ABX9TyO6erZQOQ1UR18qal0NUGLN",
      "include_colab_link": true
    },
    "kernelspec": {
      "name": "python3",
      "display_name": "Python 3"
    },
    "language_info": {
      "name": "python"
    }
  },
  "cells": [
    {
      "cell_type": "markdown",
      "metadata": {
        "id": "view-in-github",
        "colab_type": "text"
      },
      "source": [
        "<a href=\"https://colab.research.google.com/github/sneakatyou/ViT-Tensorflow-2.0/blob/main/VIT_PRELIM.ipynb\" target=\"_parent\"><img src=\"https://colab.research.google.com/assets/colab-badge.svg\" alt=\"Open In Colab\"/></a>"
      ]
    },
    {
      "cell_type": "code",
      "metadata": {
        "id": "x-6KxzDhgbi7"
      },
      "source": [
        "import math\n",
        "\n",
        "import six\n",
        "import tensorflow as tf\n",
        "from tensorflow.keras.callbacks import TensorBoard\n",
        "\n",
        "from tensorflow.keras import datasets\n",
        "\n",
        "import logging\n",
        "import numpy as np\n",
        "\n",
        "from fastprogress import master_bar, progress_bar\n",
        "import matplotlib.pyplot as plt\n"
      ],
      "execution_count": null,
      "outputs": []
    },
    {
      "cell_type": "code",
      "metadata": {
        "id": "j_eZAJcbz7E6"
      },
      "source": [
        "def get_angles(pos, i, d_model):\n",
        "  angle_rates = 1 / np.power(10000, (2 * (i//2)) / np.float32(d_model))\n",
        "  return pos * angle_rates\n",
        "  \n",
        "def positional_encoding(position, d_model):\n",
        "  angle_rads = get_angles(np.arange(position)[:, np.newaxis],\n",
        "                          np.arange(d_model)[np.newaxis, :],\n",
        "                          d_model)\n",
        "  angle_rads[:, 0::2] = np.sin(angle_rads[:, 0::2])\n",
        "  angle_rads[:, 1::2] = np.cos(angle_rads[:, 1::2])\n",
        "  pos_encoding = angle_rads[np.newaxis, ...]\n",
        "  return tf.cast(pos_encoding, dtype=tf.float32)\n"
      ],
      "execution_count": null,
      "outputs": []
    },
    {
      "cell_type": "code",
      "metadata": {
        "id": "8FvCbsp60J_-"
      },
      "source": [
        "n, d = 2048, 512\n",
        "pos_encoding = positional_encoding(n, d)\n",
        "print(pos_encoding.shape)\n",
        "pos_encoding = pos_encoding[0]\n",
        "pos_encoding = tf.reshape(pos_encoding, (n, d//2, 2))\n",
        "pos_encoding = tf.transpose(pos_encoding, (2,1,0))\n",
        "pos_encoding = tf.reshape(pos_encoding, (d, n))\n",
        "plt.pcolormesh(pos_encoding, cmap='RdBu')\n",
        "plt.ylabel('Depth')\n",
        "plt.xlabel('Position')\n",
        "plt.colorbar()\n",
        "plt.show()\n"
      ],
      "execution_count": null,
      "outputs": []
    },
    {
      "cell_type": "markdown",
      "metadata": {
        "id": "tfI3HMssI4xH"
      },
      "source": [
        "#MHA"
      ]
    },
    {
      "cell_type": "code",
      "metadata": {
        "id": "KAYdeNGhhDaM"
      },
      "source": [
        "class MultiHeadAttention(tf.keras.layers.Layer):\n",
        "    def __init__(self,num_heads,d_model):\n",
        "        super(MultiHeadAttention,self).__init__()\n",
        "        self.num_heads = num_heads\n",
        "        self.d_model = d_model\n",
        "        assert d_model%num_heads==0 \n",
        "        self.multihead_d_model = tf.cast(d_model/num_heads,tf.int32)\n",
        "        self.dense1 = tf.keras.layers.Dense(d_model)\n",
        "        self.dense2 = tf.keras.layers.Dense(d_model)\n",
        "        self.dense3 = tf.keras.layers.Dense(d_model)\n",
        "        self.dense4 = tf.keras.layers.Dense(d_model)\n",
        "    \n",
        "    def SelfAttention(self,q,k,v,d_model):\n",
        "        x = tf.matmul(q,k,transpose_b = True)\n",
        "        x = tf.divide(x,tf.math.sqrt(tf.cast(d_model,tf.float32))) #scale q*k(T)\n",
        "        attention_weights = tf.keras.activations.softmax(x,axis = -1) #calculating attention weights\n",
        "\n",
        "        x = tf.matmul(attention_weights,v)\n",
        "        return x,attention_weights\n",
        "    \n",
        "    def create_multi_heads(self,x,batch_size):\n",
        "        x = tf.reshape(x,(batch_size,-1,self.num_heads,self.multihead_d_model))\n",
        "        x = tf.transpose(x,perm = [0,2,1,3])\n",
        "        return x\n",
        "    \n",
        "    def call(self,x):\n",
        "        batch_size = x.get_shape()[0]\n",
        "        q = self.dense1(x)\n",
        "        k = self.dense2(x)\n",
        "        v = self.dense3(x)\n",
        "\n",
        "        q = self.create_multi_heads(q,batch_size)\n",
        "        k = self.create_multi_heads(k,batch_size)\n",
        "        v = self.create_multi_heads(v,batch_size)\n",
        "\n",
        "\n",
        "        x,attention_weights = self.SelfAttention(q,k,v,self.d_model)\n",
        "        x = tf.transpose(x, perm = [0,2,1,3])\n",
        "        x = tf.reshape(x,(batch_size,-1,self.d_model))\n",
        "        x = self.dense4(x)\n",
        "        return x,attention_weights\n"
      ],
      "execution_count": null,
      "outputs": []
    },
    {
      "cell_type": "code",
      "metadata": {
        "id": "BEKWntBPtugE"
      },
      "source": [
        "temp_mha = MultiHeadAttention(d_model=512, num_heads=8)\n",
        "y = tf.random.uniform((1, 60, 512))  # (batch_size, encoder_sequence, d_model)\n",
        "out, attn = temp_mha(y)\n",
        "out.shape, attn.shape"
      ],
      "execution_count": null,
      "outputs": []
    },
    {
      "cell_type": "markdown",
      "metadata": {
        "id": "2LjMBjELEFNo"
      },
      "source": [
        "#OTHERS"
      ]
    },
    {
      "cell_type": "code",
      "metadata": {
        "id": "9XXCQ6IjEEC3"
      },
      "source": [
        "class Add(tf.keras.layers.Layer):\n",
        "    def __init__(self):\n",
        "        super(Add,self).__init__()\n",
        "\n",
        "    def call(self,x,x1):\n",
        "        return tf.add(x,x1)\n"
      ],
      "execution_count": null,
      "outputs": []
    },
    {
      "cell_type": "code",
      "metadata": {
        "id": "PtSnQmB_FyNg"
      },
      "source": [
        "class MLP(tf.keras.layers.Layer):\n",
        "    def __init__(self,hidden_shape1,hidden_shape2,dropout_rate = 0.1):\n",
        "        super(MLP,self).__init__()\n",
        "        self.dense1 = tf.keras.layers.Dense(hidden_shape1,bias_initializer=tf.keras.initializers.RandomNormal(stddev=1e-6))\n",
        "        self.dense2 = tf.keras.layers.Dense(hidden_shape2,bias_initializer=tf.keras.initializers.RandomNormal(stddev=1e-6))\n",
        "        self.dropout1 = tf.keras.layers.Dropout(dropout_rate)\n",
        "        self.dropout2 = tf.keras.layers.Dropout(dropout_rate)\n",
        "\n",
        "    def call(self,x,training =True):\n",
        "        x = self.dense1(x)\n",
        "        x = tf.keras.activations.gelu(x)\n",
        "        x = self.dropout1(x,training = training)\n",
        "        x = self.dense2(x)\n",
        "        x = self.dropout2(x,training = training)\n",
        "        return x\n",
        "\n"
      ],
      "execution_count": null,
      "outputs": []
    },
    {
      "cell_type": "code",
      "metadata": {
        "id": "Lyk6oKuyRH1w"
      },
      "source": [
        "class ImgPatches(tf.keras.layers.Layer):\n",
        "    def __init__(self,d_model,patch_size,):\n",
        "        super(ImgPatches,self).__init__()\n",
        "        self.conv1 = tf.keras.layers.Conv2D(d_model,patch_size,patch_size,padding = 'valid')\n",
        "        self.patch_size = patch_size\n",
        "        self.d_model = d_model\n",
        "    def call(self,x):\n",
        "        batch_size = x.get_shape()[0]\n",
        "        x = self.conv1(x)\n",
        "        x = tf.reshape(x,(x.get_shape()[0],tf.multiply(x.get_shape()[1],x.get_shape()[2]),x.get_shape()[3]))\n",
        "        return x"
      ],
      "execution_count": null,
      "outputs": []
    },
    {
      "cell_type": "code",
      "metadata": {
        "id": "mf1SrpXXZWvF"
      },
      "source": [
        "x = tf.random.uniform((1,224,224,3))\n",
        "img = ImgPatches(d_model = 5,patch_size=32)\n",
        "y = img(x)\n",
        "y"
      ],
      "execution_count": null,
      "outputs": []
    },
    {
      "cell_type": "code",
      "metadata": {
        "id": "A9mPOBX6bqCe"
      },
      "source": [
        "class AddCls(tf.keras.layers.Layer):\n",
        "    def __init__(self,d_model):\n",
        "        super(AddCls,self).__init__()\n",
        "        self.d_model = d_model\n",
        "        self.cls = tf.Variable(tf.zeros((1,1,d_model),dtype=tf.float32),trainable=True)\n",
        "    \n",
        "    def call(self,x):\n",
        "        batch_size = x.get_shape()[0]\n",
        "        print(batch_size)\n",
        "        self.cls  = tf.tile(self.cls,[batch_size,1,1])\n",
        "        x = tf.concat([x,self.cls],axis=1)\n",
        "        return x"
      ],
      "execution_count": null,
      "outputs": []
    },
    {
      "cell_type": "code",
      "metadata": {
        "id": "xDdamQsmgG-h"
      },
      "source": [
        "x = tf.random.uniform((32,49,5))\n",
        "img = AddCls(5)\n",
        "y = img(x)\n",
        "y.shape"
      ],
      "execution_count": null,
      "outputs": []
    },
    {
      "cell_type": "markdown",
      "metadata": {
        "id": "p_lRGCeuI7tM"
      },
      "source": [
        "#ENCODER"
      ]
    },
    {
      "cell_type": "code",
      "metadata": {
        "id": "wfo-LszuI-HJ"
      },
      "source": [
        "class EncoderBlock(tf.keras.layers.Layer):\n",
        "    def __init__(self,num_heads,d_model,hidden_layer_shape,dropout_rate = 0.1):\n",
        "        super(EncoderBlock,self).__init__()\n",
        "        self.norm1 = tf.keras.layers.LayerNormalization(epsilon=1e-6)\n",
        "        self.norm2 = tf.keras.layers.LayerNormalization(epsilon=1e-6)\n",
        "        self.mlp = MLP(hidden_shape1=hidden_layer_shape,hidden_shape2=d_model,dropout_rate=dropout_rate)\n",
        "        #self.Add = Add()\n",
        "        self.mha = MultiHeadAttention(num_heads=num_heads,d_model = d_model)\n",
        "        self.dropout1 = tf.keras.layers.Dropout(dropout_rate)\n",
        "    \n",
        "    def call(self,inp,training = True):\n",
        "        x = self.norm1(inp)\n",
        "        x,_ = self.mha(x,training=training)\n",
        "        x = self.dropout1(x,training = training)\n",
        "        x = x + inp\n",
        "\n",
        "        y = self.norm2(x)\n",
        "        y = self.mlp(y)\n",
        "        y = x+y\n",
        "\n",
        "        return y"
      ],
      "execution_count": null,
      "outputs": []
    },
    {
      "cell_type": "code",
      "metadata": {
        "id": "1YDg_ueKWhSv"
      },
      "source": [
        "temp_mha = EncoderBlock(d_model=512, num_heads=8,hidden_layer_shape=2048)\n",
        "y = tf.random.uniform((1, 60, 512))  # (batch_size, encoder_sequence, d_model)\n",
        "out = temp_mha(y,training=True)\n",
        "out.shape"
      ],
      "execution_count": null,
      "outputs": []
    },
    {
      "cell_type": "code",
      "metadata": {
        "id": "8L4oo60pIX-V"
      },
      "source": [
        "class Encoder(tf.keras.layers.Layer):\n",
        "    def __init__(self,num_heads,d_model,hidden_layer_shape,num_layers,dropout_rate = 0.1):\n",
        "        super(Encoder,self).__init__()\n",
        "        self.encoder_layers = [EncoderBlock(num_heads=num_heads,d_model = d_model,hidden_layer_shape=hidden_layer_shape,dropout_rate=dropout_rate) for _ in range(num_layers)]\n",
        "        self.num_layers = num_layers\n",
        "        self.norm1 = tf.keras.layers.LayerNormalization(epsilon=1e-6)\n",
        "    def call(self,x,training = True):\n",
        "        for layer in range(self.num_layers):\n",
        "            x = self.encoder_layers[layer](x,training=training)\n",
        "        x = self.norm1(x)\n",
        "        return x"
      ],
      "execution_count": null,
      "outputs": []
    },
    {
      "cell_type": "code",
      "metadata": {
        "id": "ilAEkhLiPQ8e"
      },
      "source": [
        "temp_mha = Encoder(d_model=512, num_heads=8,hidden_layer_shape=2048,num_layers = 8)\n",
        "y = tf.random.uniform((1, 60, 512))  # (batch_size, encoder_sequence, d_model)\n",
        "out = temp_mha(y,training=True)\n",
        "out.shape"
      ],
      "execution_count": null,
      "outputs": []
    },
    {
      "cell_type": "markdown",
      "metadata": {
        "id": "n3pui38cZPYD"
      },
      "source": [
        "#VIT Model"
      ]
    },
    {
      "cell_type": "code",
      "metadata": {
        "id": "6joxk9lrZPHn"
      },
      "source": [
        "class ViT(tf.keras.Model):\n",
        "    def __init__(self,num_heads,d_model,hidden_layer_shape,num_layers,patch_size,num_classes,dropout_rate = 0.1,training = True):\n",
        "        super(ViT,self).__init__()\n",
        "        self.encoder = Encoder(num_heads=num_heads,d_model=d_model,hidden_layer_shape=hidden_layer_shape,num_layers=num_layers,dropout_rate=dropout_rate)\n",
        "        self.img_patches = ImgPatches(d_model=d_model,patch_size=patch_size)\n",
        "        self.addcls = AddCls(d_model=d_model)\n",
        "        self.dropout1 = tf.keras.layers.Dropout(dropout_rate)\n",
        "        self.dense1 = tf.keras.layers.Dense(units = num_classes,kernel_initializer = tf.keras.initializers.zeros)\n",
        "    \n",
        "    def call(self,input,training = True):\n",
        "        x = self.img_patches(input)\n",
        "        x = self.addcls(x)\n",
        "        emb = positional_encoding(x.get_shape()[1],x.get_shape()[2])\n",
        "        x = tf.add(x,emb)\n",
        "        x = self.dropout1(x,training = training)\n",
        "        x = self.encoder(x,training = training)\n",
        "        print(x.shape)\n",
        "        x = x[:,0]\n",
        "        x = self.dense1(x)\n",
        "        return x\n"
      ],
      "execution_count": null,
      "outputs": []
    },
    {
      "cell_type": "code",
      "metadata": {
        "colab": {
          "base_uri": "https://localhost:8080/"
        },
        "id": "pqbSIfue0PNv",
        "outputId": "6e5d6e98-528c-4da3-ba88-a13fbd03fef6"
      },
      "source": [
        "temp_mha = ViT(num_heads = 8,d_model = 512,hidden_layer_shape = 2048,num_layers = 12,patch_size = 32,num_classes = 10,dropout_rate = 0.1,training = True)\n",
        "y = tf.random.uniform((32, 224,224, 3))  # (batch_size, encoder_sequence, d_model)\n",
        "out = temp_mha(y,training=True)\n",
        "out.shape"
      ],
      "execution_count": null,
      "outputs": [
        {
          "output_type": "stream",
          "text": [
            "32\n",
            "(32, 50, 512)\n"
          ],
          "name": "stdout"
        },
        {
          "output_type": "execute_result",
          "data": {
            "text/plain": [
              "TensorShape([32, 10])"
            ]
          },
          "metadata": {
            "tags": []
          },
          "execution_count": 30
        }
      ]
    },
    {
      "cell_type": "markdown",
      "metadata": {
        "id": "ihZagFH5xMDe"
      },
      "source": [
        "#Config"
      ]
    },
    {
      "cell_type": "code",
      "metadata": {
        "id": "pXwy8DHkxUQ9"
      },
      "source": [
        "class Configs():\n",
        "    def __init__(self,num_classes, num_heads,num_layers,d_model,hidden_layer_shape1,hidden_layer_shape2,dropout_rate,training,batch_size,patch_size):\n",
        "        self.num_classes = num_classes\n",
        "        self.num_heads = num_heads\n",
        "        self.num_layers = num_layers\n",
        "        self.d_model = d_model\n",
        "        self.hidden_layer_shape1 = hidden_layer_shape1\n",
        "        self.hidden_layer_shape2 = hidden_layer_shape2\n",
        "        self.dropout_rate = dropout_rate\n",
        "        self.training = training\n",
        "        self.batch_size = batch_size\n",
        "        self.patch_size = patch_size"
      ],
      "execution_count": null,
      "outputs": []
    },
    {
      "cell_type": "code",
      "metadata": {
        "id": "0atFFWA2yuQH"
      },
      "source": [
        "configs = Configs(num_classes = 10, \n",
        "                  num_heads = 12,\n",
        "                  num_layers = 12,\n",
        "                  d_model = 712,\n",
        "                  hidden_layer_shape1 = 2048,\n",
        "                  hidden_layer_shape2 = 1024,\n",
        "                  dropout_rate = 0.1,\n",
        "                  training = True)"
      ],
      "execution_count": null,
      "outputs": []
    }
  ]
}